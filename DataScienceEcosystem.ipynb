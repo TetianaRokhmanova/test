{
 "cells": [
  {
   "cell_type": "markdown",
   "id": "725861f8-b63f-4057-9f48-adb288cb5d86",
   "metadata": {},
   "source": [
    "# Data Science Tools and Ecosystem"
   ]
  },
  {
   "cell_type": "markdown",
   "id": "d97cf907-7a8f-4763-9b63-cb5f9f4d9580",
   "metadata": {},
   "source": [
    "In this notebook, Data Science Tools and Ecosystem are summarized."
   ]
  },
  {
   "cell_type": "markdown",
   "id": "ffd07709-9340-4657-a662-bf89c3069331",
   "metadata": {},
   "source": [
    "**Objectives:**\n",
    "* List popular languages for Data Science;\n",
    "* List commonly used libraries;\n",
    "* Indicate Data Science Tools;\n",
    "* Show simple arithmetic expressions;"
   ]
  },
  {
   "cell_type": "markdown",
   "id": "46fba1d4-c283-4d70-8f3f-5ea2e4015ee6",
   "metadata": {},
   "source": [
    "Some of the popular languages that Data Scientists use are:\n",
    "1. SQL\n",
    "2. R\n",
    "3. Python\n",
    "4. Scala\n",
    "5. Java\n",
    "6. C++\n",
    "7. Julia"
   ]
  },
  {
   "cell_type": "markdown",
   "id": "4b95b364-11c5-460e-8216-88a7fe46feeb",
   "metadata": {},
   "source": [
    "Some of the commonly used libraries used by Data Scientists include:\n",
    "1. dplyr\n",
    "2. string\n",
    "3. ggplot\n",
    "4. caret\n",
    "5. plotly\n",
    "6. lattice\n",
    "7. leaflet"
   ]
  },
  {
   "cell_type": "markdown",
   "id": "eb0d2faa-4524-4fdf-b28f-f315481f2907",
   "metadata": {},
   "source": [
    "| Data Science Tools |\n",
    "| -------------|\n",
    "| Jupiter |\n",
    "| RStudio |\n",
    "| GitHub |"
   ]
  },
  {
   "cell_type": "markdown",
   "id": "7645af46-cdb8-4739-81f9-007cc197c973",
   "metadata": {},
   "source": [
    "### Below are a few examples of evaluating arithmetic expressions in Python"
   ]
  },
  {
   "cell_type": "markdown",
   "id": "57bb4db9-e048-414c-bafa-5fc3c6dacf54",
   "metadata": {},
   "source": [
    "This a simple arithmetic expression to mutiply then add integers"
   ]
  },
  {
   "cell_type": "code",
   "execution_count": 2,
   "id": "26aedc72-1b6f-4837-b9d3-d14519242154",
   "metadata": {},
   "outputs": [
    {
     "data": {
      "text/plain": [
       "17"
      ]
     },
     "execution_count": 2,
     "metadata": {},
     "output_type": "execute_result"
    }
   ],
   "source": [
    "(3*4)+5"
   ]
  },
  {
   "cell_type": "markdown",
   "id": "2d45b27a-70a2-4445-8b80-2e88d51dc625",
   "metadata": {},
   "source": [
    "This will convert 200 minutes to hours by diving by 60"
   ]
  },
  {
   "cell_type": "code",
   "execution_count": 3,
   "id": "8ed6e3ff-ca41-4c21-9440-28e8eee2fbc2",
   "metadata": {},
   "outputs": [
    {
     "data": {
      "text/plain": [
       "3.3333333333333335"
      ]
     },
     "execution_count": 3,
     "metadata": {},
     "output_type": "execute_result"
    }
   ],
   "source": [
    "200/60"
   ]
  },
  {
   "cell_type": "markdown",
   "id": "f7d7e38d-4f77-42f1-9d92-be0e79e298f6",
   "metadata": {},
   "source": [
    "## Author\n",
    "Tetiana Rokhmanova"
   ]
  },
  {
   "cell_type": "code",
   "execution_count": null,
   "id": "7e4c7c9f-39ba-4e49-a973-7c39798bce14",
   "metadata": {},
   "outputs": [],
   "source": []
  }
 ],
 "metadata": {
  "kernelspec": {
   "display_name": "Python 3 (ipykernel)",
   "language": "python",
   "name": "python3"
  },
  "language_info": {
   "codemirror_mode": {
    "name": "ipython",
    "version": 3
   },
   "file_extension": ".py",
   "mimetype": "text/x-python",
   "name": "python",
   "nbconvert_exporter": "python",
   "pygments_lexer": "ipython3",
   "version": "3.11.9"
  }
 },
 "nbformat": 4,
 "nbformat_minor": 5
}
